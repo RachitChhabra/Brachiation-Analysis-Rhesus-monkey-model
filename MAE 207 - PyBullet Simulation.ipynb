{
 "cells": [
  {
   "cell_type": "code",
   "execution_count": 1,
   "metadata": {},
   "outputs": [
    {
     "name": "stderr",
     "output_type": "stream",
     "text": [
      "pybullet build time: Aug  4 2022 15:57:56\n"
     ]
    }
   ],
   "source": [
    "# The PyBullet physics simulation library\n",
    "import pybullet as p\n",
    "import pybullet_data\n",
    "\n",
    "# Numpy for numerical calculations and manipulations\n",
    "import numpy as np\n",
    "import math\n",
    "\n",
    "# Matplotlib to create the necessary plots\n",
    "import matplotlib.pyplot as plt\n",
    "plt.style.use('ggplot')\n",
    "import time"
   ]
  },
  {
   "cell_type": "code",
   "execution_count": 2,
   "metadata": {},
   "outputs": [
    {
     "name": "stderr",
     "output_type": "stream",
     "text": [
      "/Users/rachitchhabra/opt/anaconda3/lib/python3.9/site-packages/scipy/__init__.py:146: UserWarning: A NumPy version >=1.16.5 and <1.23.0 is required for this version of SciPy (detected version 1.24.2\n",
      "  warnings.warn(f\"A NumPy version >={np_minversion} and <{np_maxversion}\"\n"
     ]
    },
    {
     "name": "stdout",
     "output_type": "stream",
     "text": [
      "Version = 4.1 Metal - 83\n",
      "Vendor = Apple\n",
      "Renderer = Apple M1\n",
      "b3Printf: Selected demo: Physics Server\n",
      "startThreads creating 1 threads.\n",
      "starting thread 0\n",
      "started thread 0 \n",
      "MotionThreadFunc thread started\n"
     ]
    }
   ],
   "source": [
    "\n",
    "# Let's use urdfpy to examine our urdf file before importing into pybullet\n",
    "from urdfpy import URDF\n",
    "## Instantiate the GUI and load the ground and robot URDF files\n",
    "# Use p.DIRECT to connect to the server without rendering a GUI\n",
    "# Use p.GUI to create a GUI to render the simulation\n",
    "client = p.connect(p.GUI) # or p.GUI\n",
    "\n",
    "### This line is important if you are editing your URDF since it default caches them\n",
    "p.setPhysicsEngineParameter(enableFileCaching=0) \n",
    "\n",
    "p.setAdditionalSearchPath(pybullet_data.getDataPath()) # Set the search path to find the plane.urdf file\n",
    "# p.configureDebugVisualizer(p.COV_ENABLE_GUI,0)\n",
    "p.configureDebugVisualizer(p.COV_ENABLE_WIREFRAME,1)\n",
    "p.configureDebugVisualizer(p.COV_ENABLE_KEYBOARD_SHORTCUTS,1)"
   ]
  },
  {
   "cell_type": "code",
   "execution_count": 3,
   "metadata": {},
   "outputs": [],
   "source": [
    "# Use this to reset and retry\n",
    "p.resetSimulation()\n",
    "p.setAdditionalSearchPath(pybullet_data.getDataPath()) # Set the search path to find the plane.urdf file\n",
    "\n",
    "# Load the URDF of the plane that forms the ground\n",
    "plane = p.loadURDF(\"plane.urdf\")\n",
    "\n",
    "p.changeVisualShape(plane, -1, rgbaColor=[0.3, 1, 1, 0.5])\n",
    "\n",
    "# Load the URDF of the robot\n",
    "cubeStartPos = [0,0,2]\n",
    "cubeStartOrientation = p.getQuaternionFromEuler([0,0,0])\n",
    "hpr = p.loadURDF(\"monkey_model.urdf\", cubeStartPos, cubeStartOrientation)\n",
    "\n",
    "# Set the Gravity vector\n",
    "p.setGravity(0,0,-9.81, physicsClientId = client)\n"
   ]
  },
  {
   "cell_type": "code",
   "execution_count": 4,
   "metadata": {},
   "outputs": [
    {
     "name": "stdout",
     "output_type": "stream",
     "text": [
      "Number of bodies: 2\n",
      "b'plane'\n",
      "b'double_pendulum'\n",
      "\n",
      "\n",
      "Joint names:\n",
      "shoulder\n",
      "elbow\n",
      "\n",
      "\n",
      "Link names:\n",
      "armLR\n",
      "armUR\n"
     ]
    }
   ],
   "source": [
    "# Set the simulation time-step. Default is 1/240\n",
    "# p.setTimeStep(0.001) #The lower this is, more accurate the simulation \n",
    "## Build list of joints\n",
    "numBodies = p.getNumBodies()\n",
    "bodyNames = [p.getBodyInfo(ii) for ii in range(numBodies)]\n",
    "\n",
    "print(f\"Number of bodies: {numBodies}\")\n",
    "[print(name[1]) for name in bodyNames]\n",
    "\n",
    "numJointsHopper = p.getNumJoints(hpr)\n",
    "jointInfo = [p.getJointInfo(hpr, ii) for ii in range(numJointsHopper)]\n",
    "\n",
    "## Make a dict of the joint names to easily access them for control purposes\n",
    "joints = {str(joint[1])[2:-1]: i for i, joint in enumerate(jointInfo)}\n",
    "\n",
    "print(\"\\r\\n\")\n",
    "print(f\"Joint names:\")\n",
    "[print(key) for key, value in joints.items()];\n",
    "\n",
    "# Link names are stored in the joint\n",
    "links = {str(joint[12])[2:-1]: i for i, joint in enumerate(jointInfo)}\n",
    "\n",
    "print(\"\\r\\n\")\n",
    "print(f\"Link names:\")\n",
    "[print(key) for key, value in links.items()];"
   ]
  },
  {
   "cell_type": "code",
   "execution_count": 5,
   "metadata": {},
   "outputs": [
    {
     "data": {
      "text/plain": [
       "(0.021041666666666667, 0.021041666666666667, 0.00041666666666666675, 0, 0, 0)"
      ]
     },
     "execution_count": 5,
     "metadata": {},
     "output_type": "execute_result"
    }
   ],
   "source": [
    "# Calculate Moment of Inertia for a cuboid\n",
    "\n",
    "def calculate_box_inertia(m, w, d, h):\n",
    "    Ixx = (m/12.0)*(pow(d,2)+pow(h,2))\n",
    "    Iyy = (m / 12.0) * (pow(w, 2) + pow(h, 2))\n",
    "    Izz = (m / 12.0) * (pow(w, 2) + pow(d, 2))\n",
    "    return Ixx, Iyy, Izz\n",
    "m = 1\n",
    "w = 0.05\n",
    "d = 0.05\n",
    "h = 0.61\n",
    "Ixx, Iyy, Izz = calculate_box_inertia(m, w, d, h)\n",
    "Ixy = 0; Iyz = 0; Ixz = 0;\n",
    "Ixx, Iyy, Izz, Ixy, Iyz, Ixz"
   ]
  },
  {
   "cell_type": "code",
   "execution_count": 6,
   "metadata": {},
   "outputs": [
    {
     "data": {
      "text/plain": [
       "array([-0.78, -1.62])"
      ]
     },
     "execution_count": 6,
     "metadata": {},
     "output_type": "execute_result"
    },
    {
     "data": {
      "image/png": "[encoded data removed]",
      "text/plain": [
       "<Figure size 432x288 with 2 Axes>"
      ]
     },
     "metadata": {},
     "output_type": "display_data"
    }
   ],
   "source": [
    "from scipy.interpolate import interp1d\n",
    "keypoints = []\n",
    "keypoints.append(np.array([-0.78,-1.62]))\n",
    "keypoints.append(np.array([-0.39,-0.81]))\n",
    "keypoints.append(np.array([0,0]))\n",
    "keypoints.append(np.array([0.39,0.81]))\n",
    "keypoints.append(np.array([0.78,1.62]))\n",
    "keypoints = np.transpose(np.array(keypoints))\n",
    "\n",
    "t = 100\n",
    "times = np.linspace(1,t,t)\n",
    "t_arr = np.array([1,t//4,2*t//4,3*t//4,t])\n",
    "points = np.zeros((2,t))\n",
    "\n",
    "for i in range(keypoints.shape[0]):\n",
    "    points[i] = interp1d(t_arr, keypoints[i], kind = 'cubic')(times)\n",
    "fig, (ax1, ax2) = plt.subplots(1, 2)\n",
    "fig.suptitle('How it should be')\n",
    "ax1.plot(points[0,:])\n",
    "ax2.plot(points[1,:])\n",
    "points[:,0]"
   ]
  },
  {
   "cell_type": "code",
   "execution_count": 14,
   "metadata": {},
   "outputs": [
    {
     "data": {
      "image/png": "[encoded data removed]",
      "text/plain": [
       "<Figure size 432x288 with 2 Axes>"
      ]
     },
     "metadata": {},
     "output_type": "display_data"
    }
   ],
   "source": [
    "theta1 = np.load(\"theta1.npy\")[0:1600]\n",
    "theta2 = np.load(\"theta2.npy\")[0:1600]\n",
    "t1 = []\n",
    "t2 = []\n",
    "for i in range(theta1.shape[0]):\n",
    "    if ((theta1[i]>0)&(theta2[i]>0)):\n",
    "        t1.append(- theta1[i])\n",
    "        t2.append(theta1[i] - theta2[i])\n",
    "\n",
    "    elif ((theta1[i]<0)&(theta2[i]<0)):\n",
    "        t1.append(- theta1[i])\n",
    "        t2.append(theta1[i] - theta2[i])\n",
    "\n",
    "    elif ((theta1[i]<0)&(theta2[i]>0)):\n",
    "        t1.append(- theta1[i])\n",
    "        t2.append(-theta1[i] + theta2[i])\n",
    "\n",
    "    elif ((theta1[i]>0)&(theta2[i]<0)):\n",
    "        t1.append(- theta1[i])\n",
    "        t2.append(theta1[i] - theta2[i])\n",
    "fig, (ax1, ax2) = plt.subplots(1, 2)\n",
    "fig.suptitle('How it is')\n",
    "ax1.plot(t1)\n",
    "ax2.plot(t2)\n",
    "t1 = t1[0::50]\n",
    "t2 = t2[0::50]"
   ]
  },
  {
   "cell_type": "code",
   "execution_count": 24,
   "metadata": {},
   "outputs": [],
   "source": [
    "p.setJointMotorControlArray(hpr, range(2), p.POSITION_CONTROL , targetPositions = [t1[0],t2[0]])\n",
    "for i in range(100):\n",
    "    p.stepSimulation()\n",
    "    time.sleep(1/240.)\n",
    "t = int(len(t1))\n",
    "for i in range(t):\n",
    "    p.setJointMotorControlArray(hpr, range(2), p.POSITION_CONTROL , targetPositions = [t1[i],t2[i]])\n",
    "    p.stepSimulation()\n",
    "    time.sleep(1/240.)\n",
    "    for i in range(1):\n",
    "        p.stepSimulation()\n",
    "        time.sleep(1/960.)\n",
    "\n",
    "p.setJointMotorControlArray(hpr, range(2), p.POSITION_CONTROL , targetPositions = [t1[-1],t2[-1]])\n",
    "for i in range(50):\n",
    "    p.stepSimulation()\n",
    "    time.sleep(1/240.)\n"
   ]
  },
  {
   "cell_type": "code",
   "execution_count": null,
   "metadata": {},
   "outputs": [
    {
     "ename": "KeyboardInterrupt",
     "evalue": "",
     "output_type": "error",
     "traceback": [
      "\u001b[0;31m---------------------------------------------------------------------------\u001b[0m",
      "\u001b[0;31mKeyboardInterrupt\u001b[0m                         Traceback (most recent call last)",
      "\u001b[0;32m/var/folders/bc/dz53sb11171chwbkvp1ym2040000gn/T/ipykernel_47556/486570587.py\u001b[0m in \u001b[0;36m<module>\u001b[0;34m\u001b[0m\n\u001b[1;32m     12\u001b[0m \u001b[0;31m# for i in range(50):\u001b[0m\u001b[0;34m\u001b[0m\u001b[0;34m\u001b[0m\u001b[0m\n\u001b[1;32m     13\u001b[0m \u001b[0;32mwhile\u001b[0m \u001b[0;32mTrue\u001b[0m\u001b[0;34m:\u001b[0m\u001b[0;34m\u001b[0m\u001b[0;34m\u001b[0m\u001b[0m\n\u001b[0;32m---> 14\u001b[0;31m     \u001b[0mp\u001b[0m\u001b[0;34m.\u001b[0m\u001b[0mstepSimulation\u001b[0m\u001b[0;34m(\u001b[0m\u001b[0;34m)\u001b[0m\u001b[0;34m\u001b[0m\u001b[0;34m\u001b[0m\u001b[0m\n\u001b[0m\u001b[1;32m     15\u001b[0m     \u001b[0mtime\u001b[0m\u001b[0;34m.\u001b[0m\u001b[0msleep\u001b[0m\u001b[0;34m(\u001b[0m\u001b[0;36m1\u001b[0m\u001b[0;34m/\u001b[0m\u001b[0;36m240.\u001b[0m\u001b[0;34m)\u001b[0m\u001b[0;34m\u001b[0m\u001b[0;34m\u001b[0m\u001b[0m\n",
      "\u001b[0;31mKeyboardInterrupt\u001b[0m: "
     ]
    }
   ],
   "source": [
    "p.setJointMotorControlArray(hpr, range(2), p.POSITION_CONTROL , targetPositions = [points[0,0],points[1,0]])\n",
    "for i in range(50):\n",
    "    p.stepSimulation()\n",
    "    time.sleep(1/240.)\n",
    "\n",
    "for i in range(t):\n",
    "    p.setJointMotorControlArray(hpr, range(2), p.POSITION_CONTROL , targetPositions = [points[0,i],points[1,i]])\n",
    "    p.stepSimulation()\n",
    "    time.sleep(1/240.)\n",
    "\n",
    "p.setJointMotorControlArray(hpr, range(2), p.POSITION_CONTROL , targetPositions = [points[0,-1],points[1,-1]])\n",
    "# for i in range(50):\n",
    "while True:\n",
    "    p.stepSimulation()\n",
    "    time.sleep(1/240.)"
   ]
  }
 ],
 "metadata": {
  "kernelspec": {
   "display_name": "Python 3 (ipykernel)",
   "language": "python",
   "name": "python3"
  },
  "language_info": {
   "codemirror_mode": {
    "name": "ipython",
    "version": 3
   },
   "file_extension": ".py",
   "mimetype": "text/x-python",
   "name": "python",
   "nbconvert_exporter": "python",
   "pygments_lexer": "ipython3",
   "version": "3.9.7"
  },
  "vscode": {
   "interpreter": {
    "hash": "4eceb489042e58828059f49438c6ef416d94ef4a130d5adaa22271e4bef201d5"
   }
  }
 },
 "nbformat": 4,
 "nbformat_minor": 4
}
